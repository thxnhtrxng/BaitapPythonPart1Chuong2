{
 "cells": [
  {
   "cell_type": "code",
   "execution_count": 1,
   "id": "6ccf116e-861e-441c-916f-1cabb51ce1ae",
   "metadata": {},
   "outputs": [
    {
     "name": "stdin",
     "output_type": "stream",
     "text": [
      "Nhập bán kính r:  4\n",
      "Nhập chiều cao h:  6\n"
     ]
    },
    {
     "name": "stdout",
     "output_type": "stream",
     "text": [
      "Thể tích hình trụ là: 301.59289474462014\n"
     ]
    }
   ],
   "source": [
    "import math\n",
    "\n",
    "# Nhập bán kính và chiều cao\n",
    "r = float(input(\"Nhập bán kính r: \"))\n",
    "h = float(input(\"Nhập chiều cao h: \"))\n",
    "\n",
    "# Tính thể tích\n",
    "V = math.pi * r**2 * h\n",
    "\n",
    "print(\"Thể tích hình trụ là:\", V)\n"
   ]
  },
  {
   "cell_type": "code",
   "execution_count": null,
   "id": "060ca95f-0c19-433b-9a86-7b9b63153a4d",
   "metadata": {},
   "outputs": [],
   "source": []
  }
 ],
 "metadata": {
  "kernelspec": {
   "display_name": "Python 3 (ipykernel)",
   "language": "python",
   "name": "python3"
  },
  "language_info": {
   "codemirror_mode": {
    "name": "ipython",
    "version": 3
   },
   "file_extension": ".py",
   "mimetype": "text/x-python",
   "name": "python",
   "nbconvert_exporter": "python",
   "pygments_lexer": "ipython3",
   "version": "3.13.2"
  }
 },
 "nbformat": 4,
 "nbformat_minor": 5
}
