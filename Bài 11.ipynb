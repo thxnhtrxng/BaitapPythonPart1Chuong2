{
 "cells": [
  {
   "cell_type": "code",
   "execution_count": 1,
   "id": "3b5e8f31-9b9e-4806-939d-586ff4fc7e5e",
   "metadata": {},
   "outputs": [
    {
     "name": "stdin",
     "output_type": "stream",
     "text": [
      "Nhập chiều dài cánh đồng (m):  50\n",
      "Nhập chiều rộng cánh đồng (m):  20\n"
     ]
    },
    {
     "name": "stdout",
     "output_type": "stream",
     "text": [
      "Diện tích cánh đồng là: 0.02295684113865932 mẫu Anh\n"
     ]
    }
   ],
   "source": [
    "# Bài 11: Diện tích cánh đồng theo mẫu Anh\n",
    "\n",
    "# Nhập chiều dài và rộng (m)\n",
    "length = float(input(\"Nhập chiều dài cánh đồng (m): \"))\n",
    "width = float(input(\"Nhập chiều rộng cánh đồng (m): \"))\n",
    "\n",
    "# Tính diện tích m²\n",
    "area_m2 = length * width\n",
    "\n",
    "# Quy đổi sang mẫu Anh\n",
    "area_acres = area_m2 / 43560\n",
    "\n",
    "print(\"Diện tích cánh đồng là:\", area_acres, \"mẫu Anh\")\n"
   ]
  },
  {
   "cell_type": "code",
   "execution_count": null,
   "id": "3a12bec4-c492-4d57-b92a-ab70970bbe65",
   "metadata": {},
   "outputs": [],
   "source": []
  }
 ],
 "metadata": {
  "kernelspec": {
   "display_name": "Python 3 (ipykernel)",
   "language": "python",
   "name": "python3"
  },
  "language_info": {
   "codemirror_mode": {
    "name": "ipython",
    "version": 3
   },
   "file_extension": ".py",
   "mimetype": "text/x-python",
   "name": "python",
   "nbconvert_exporter": "python",
   "pygments_lexer": "ipython3",
   "version": "3.13.2"
  }
 },
 "nbformat": 4,
 "nbformat_minor": 5
}
