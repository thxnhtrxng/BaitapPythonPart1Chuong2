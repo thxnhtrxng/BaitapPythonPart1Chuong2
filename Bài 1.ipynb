{
 "cells": [
  {
   "cell_type": "code",
   "execution_count": 5,
   "id": "c1a37ccb-78ae-4f4f-991f-ef2846695e99",
   "metadata": {},
   "outputs": [
    {
     "name": "stdin",
     "output_type": "stream",
     "text": [
      "Enter your string:  trung\n"
     ]
    },
    {
     "name": "stdout",
     "output_type": "stream",
     "text": [
      "A Upper String is : TRUNG\n",
      "A Lower String is : trung\n",
      "A Title String is : Trung\n"
     ]
    }
   ],
   "source": [
    "# Bài 1: Xử lý chuỗi\n",
    "\n",
    "# (1) Nhập vào một chuỗi\n",
    "st = input(\"Enter your string: \")\n",
    "\n",
    "# (2) Chuỗi toàn chữ hoa\n",
    "st_upper = st.upper()\n",
    "\n",
    "# (3) Chuỗi toàn chữ thường\n",
    "st_lower = st.lower()\n",
    "\n",
    "# (4) Chuỗi có chữ cái đầu mỗi từ viết hoa\n",
    "st_title = st.title()\n",
    "\n",
    "# (5) In kết quả\n",
    "print(\"A Upper String is : \" + st_upper)\n",
    "print(\"A Lower String is : \" + st_lower)\n",
    "print(\"A Title String is : \" + st_title)\n"
   ]
  },
  {
   "cell_type": "code",
   "execution_count": null,
   "id": "a7f4b2c5-4639-4159-91f0-366be4b8eeeb",
   "metadata": {},
   "outputs": [],
   "source": []
  },
  {
   "cell_type": "code",
   "execution_count": null,
   "id": "56d0a2bc-bb0b-47fc-9fc9-29af32b1125c",
   "metadata": {},
   "outputs": [],
   "source": []
  }
 ],
 "metadata": {
  "kernelspec": {
   "display_name": "Python 3 (ipykernel)",
   "language": "python",
   "name": "python3"
  },
  "language_info": {
   "codemirror_mode": {
    "name": "ipython",
    "version": 3
   },
   "file_extension": ".py",
   "mimetype": "text/x-python",
   "name": "python",
   "nbconvert_exporter": "python",
   "pygments_lexer": "ipython3",
   "version": "3.13.2"
  }
 },
 "nbformat": 4,
 "nbformat_minor": 5
}
