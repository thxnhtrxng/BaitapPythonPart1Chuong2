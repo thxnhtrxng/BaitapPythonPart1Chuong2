{
 "cells": [
  {
   "cell_type": "code",
   "execution_count": 1,
   "id": "9bd9493c-b72a-4413-b4b9-d781036043e6",
   "metadata": {},
   "outputs": [
    {
     "name": "stdin",
     "output_type": "stream",
     "text": [
      "Enter your string:  trung\n"
     ]
    },
    {
     "name": "stdout",
     "output_type": "stream",
     "text": [
      "First five characters are: trung\n",
      "Last five characters are: trung\n",
      "Four strings of one line are: trung trung trung trung \n",
      "Four strings of four lines are:\n",
      "trung\n",
      "trung\n",
      "trung\n",
      "trung\n",
      "\n"
     ]
    }
   ],
   "source": [
    "# Bài 5: Xử lý chuỗi\n",
    "\n",
    "# (1) Nhập chuỗi\n",
    "st = input(\"Enter your string: \")\n",
    "\n",
    "# (2) 5 ký tự đầu tiên\n",
    "first_five_characters = st[:5]\n",
    "\n",
    "# (3) 5 ký tự cuối cùng\n",
    "last_five_characters = st[-5:]   # cách viết ngắn hơn so với len(st)-5\n",
    "\n",
    "# (4) Lặp lại 4 lần trên 1 dòng, cách nhau 1 khoảng trắng\n",
    "four_str_one_line = (st + \" \") * 4\n",
    "\n",
    "# (5) Lặp lại 4 lần trên 4 dòng\n",
    "four_str_four_line = (st + \"\\n\") * 4\n",
    "\n",
    "# (6) Xuất kết quả\n",
    "print(\"First five characters are:\", first_five_characters)\n",
    "print(\"Last five characters are:\", last_five_characters)\n",
    "print(\"Four strings of one line are:\", four_str_one_line)\n",
    "print(\"Four strings of four lines are:\\n\" + four_str_four_line)\n"
   ]
  },
  {
   "cell_type": "code",
   "execution_count": null,
   "id": "c22c9476-5c72-468b-9768-c71b1ae2e5e6",
   "metadata": {},
   "outputs": [],
   "source": []
  }
 ],
 "metadata": {
  "kernelspec": {
   "display_name": "Python 3 (ipykernel)",
   "language": "python",
   "name": "python3"
  },
  "language_info": {
   "codemirror_mode": {
    "name": "ipython",
    "version": 3
   },
   "file_extension": ".py",
   "mimetype": "text/x-python",
   "name": "python",
   "nbconvert_exporter": "python",
   "pygments_lexer": "ipython3",
   "version": "3.13.2"
  }
 },
 "nbformat": 4,
 "nbformat_minor": 5
}
