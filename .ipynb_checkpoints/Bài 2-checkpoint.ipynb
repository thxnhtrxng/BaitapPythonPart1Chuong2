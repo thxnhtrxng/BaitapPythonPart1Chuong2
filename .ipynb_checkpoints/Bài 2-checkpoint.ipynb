{
 "cells": [
  {
   "cell_type": "code",
   "execution_count": null,
   "id": "aa11abcc-6785-460c-ad33-54750a81703b",
   "metadata": {},
   "outputs": [],
   "source": [
    "# Bài 2: Trích xuất host từ email\n",
    "data = \"minhnhutvh@gmail.com\"\n",
    "\n",
    "# Tìm vị trí dấu @\n",
    "position = data.find(\"@\")   # Kết quả: 10\n",
    "\n",
    "# Lấy chuỗi từ sau @ đến hết\n",
    "host = data[position + 1:]\n",
    "\n",
    "print(\"Host là:\", host)\n"
   ]
  }
 ],
 "metadata": {
  "kernelspec": {
   "display_name": "Python 3 (ipykernel)",
   "language": "python",
   "name": "python3"
  },
  "language_info": {
   "codemirror_mode": {
    "name": "ipython",
    "version": 3
   },
   "file_extension": ".py",
   "mimetype": "text/x-python",
   "name": "python",
   "nbconvert_exporter": "python",
   "pygments_lexer": "ipython3",
   "version": "3.13.2"
  }
 },
 "nbformat": 4,
 "nbformat_minor": 5
}
