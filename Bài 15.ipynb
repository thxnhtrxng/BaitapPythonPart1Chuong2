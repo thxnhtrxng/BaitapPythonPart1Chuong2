{
 "cells": [
  {
   "cell_type": "code",
   "execution_count": 1,
   "id": "d01a88a7-2e9e-446c-8bfd-1834299d3b14",
   "metadata": {},
   "outputs": [
    {
     "name": "stdin",
     "output_type": "stream",
     "text": [
      "Nhập khối lượng nước (gram):  400\n",
      "Nhập độ thay đổi nhiệt độ (°C):  24\n"
     ]
    },
    {
     "name": "stdout",
     "output_type": "stream",
     "text": [
      "Năng lượng cần thiết: 40185.60 Joules\n",
      "Tương đương: 0.011160 kWh\n",
      "Chi phí: 0.0993 cent\n"
     ]
    }
   ],
   "source": [
    "# Nhập dữ liệu\n",
    "M = float(input(\"Nhập khối lượng nước (gram): \"))\n",
    "delta_T = float(input(\"Nhập độ thay đổi nhiệt độ (°C): \"))\n",
    "\n",
    "# Nhiệt dung riêng của nước\n",
    "C = 4.186  \n",
    "\n",
    "# Tính năng lượng Q (Joules)\n",
    "Q = M * C * delta_T\n",
    "print(f\"Năng lượng cần thiết: {Q:.2f} Joules\")\n",
    "\n",
    "# Đổi sang kWh\n",
    "kWh = Q * 2.777e-7\n",
    "print(f\"Tương đương: {kWh:.6f} kWh\")\n",
    "\n",
    "# Tính chi phí (8.9 cent/kWh)\n",
    "cost = kWh * 8.9\n",
    "print(f\"Chi phí: {cost:.4f} cent\")\n"
   ]
  },
  {
   "cell_type": "code",
   "execution_count": null,
   "id": "e544b037-e97d-4ae4-95e7-95cea3fcd5e8",
   "metadata": {},
   "outputs": [],
   "source": []
  }
 ],
 "metadata": {
  "kernelspec": {
   "display_name": "Python 3 (ipykernel)",
   "language": "python",
   "name": "python3"
  },
  "language_info": {
   "codemirror_mode": {
    "name": "ipython",
    "version": 3
   },
   "file_extension": ".py",
   "mimetype": "text/x-python",
   "name": "python",
   "nbconvert_exporter": "python",
   "pygments_lexer": "ipython3",
   "version": "3.13.2"
  }
 },
 "nbformat": 4,
 "nbformat_minor": 5
}
