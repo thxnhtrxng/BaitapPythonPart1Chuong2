{
 "cells": [
  {
   "cell_type": "code",
   "execution_count": 2,
   "id": "d24e7aa5-0967-4e8e-bb8f-03885f3936f9",
   "metadata": {},
   "outputs": [
    {
     "name": "stdout",
     "output_type": "stream",
     "text": [
      "Host là: gmail.com\n"
     ]
    }
   ],
   "source": [
    "# Bài 3: Trích xuất host từ email + thời gian\n",
    "data = \"minhnhutvh@gmail.com Sat Jan 5 09:14:16\"\n",
    "\n",
    "# Tìm vị trí bắt đầu (sau @)\n",
    "start_position = data.find(\"@\")   # 10\n",
    "\n",
    "# Tìm vị trí kết thúc (khoảng trắng đầu tiên sau @)\n",
    "end_position = data.find(\" \", start_position)\n",
    "\n",
    "# Cắt chuỗi từ sau @ tới trước dấu cách\n",
    "host = data[start_position + 1 : end_position]\n",
    "\n",
    "print(\"Host là:\", host)\n"
   ]
  },
  {
   "cell_type": "code",
   "execution_count": null,
   "id": "5033fe5f-18c8-4628-9393-08c4c823f226",
   "metadata": {},
   "outputs": [],
   "source": []
  }
 ],
 "metadata": {
  "kernelspec": {
   "display_name": "Python 3 (ipykernel)",
   "language": "python",
   "name": "python3"
  },
  "language_info": {
   "codemirror_mode": {
    "name": "ipython",
    "version": 3
   },
   "file_extension": ".py",
   "mimetype": "text/x-python",
   "name": "python",
   "nbconvert_exporter": "python",
   "pygments_lexer": "ipython3",
   "version": "3.13.2"
  }
 },
 "nbformat": 4,
 "nbformat_minor": 5
}
