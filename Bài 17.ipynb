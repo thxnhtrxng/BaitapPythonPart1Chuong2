{
 "cells": [
  {
   "cell_type": "code",
   "execution_count": 1,
   "id": "d9dc72ab-20f3-46be-ab96-a21a86420f47",
   "metadata": {},
   "outputs": [
    {
     "name": "stdin",
     "output_type": "stream",
     "text": [
      "Nhập nhiệt độ không khí (°C):  24\n",
      "Nhập tốc độ gió (km/h):  45\n"
     ]
    },
    {
     "name": "stdout",
     "output_type": "stream",
     "text": [
      "Chỉ số gió lạnh (WCI) là: 25\n"
     ]
    }
   ],
   "source": [
    "# Nhập dữ liệu từ người dùng\n",
    "Ta = float(input(\"Nhập nhiệt độ không khí (°C): \"))\n",
    "V = float(input(\"Nhập tốc độ gió (km/h): \"))\n",
    "\n",
    "# Công thức tính WCI\n",
    "WCI = 13.12 + (0.6215 * Ta) - (11.37 * (V ** 0.16)) + (0.3965 * Ta * (V ** 0.16))\n",
    "\n",
    "# Làm tròn đến số nguyên gần nhất\n",
    "WCI = round(WCI)\n",
    "\n",
    "# Xuất kết quả\n",
    "print(\"Chỉ số gió lạnh (WCI) là:\", WCI)\n"
   ]
  },
  {
   "cell_type": "code",
   "execution_count": null,
   "id": "f9e84008-33b3-4d2e-92c5-b96620457674",
   "metadata": {},
   "outputs": [],
   "source": []
  }
 ],
 "metadata": {
  "kernelspec": {
   "display_name": "Python 3 (ipykernel)",
   "language": "python",
   "name": "python3"
  },
  "language_info": {
   "codemirror_mode": {
    "name": "ipython",
    "version": 3
   },
   "file_extension": ".py",
   "mimetype": "text/x-python",
   "name": "python",
   "nbconvert_exporter": "python",
   "pygments_lexer": "ipython3",
   "version": "3.13.2"
  }
 },
 "nbformat": 4,
 "nbformat_minor": 5
}
