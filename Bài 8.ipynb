{
 "cells": [
  {
   "cell_type": "code",
   "execution_count": 1,
   "id": "0ff7a458-31e0-406e-a34c-801109c66fd2",
   "metadata": {},
   "outputs": [
    {
     "name": "stdin",
     "output_type": "stream",
     "text": [
      "Nhập cạnh tam giác đều:  4\n"
     ]
    },
    {
     "name": "stdout",
     "output_type": "stream",
     "text": [
      "Diện tích tam giác đều là: 6.928203230275509\n"
     ]
    }
   ],
   "source": [
    "import math\n",
    "\n",
    "# Nhập cạnh tam giác đều\n",
    "a = float(input(\"Nhập cạnh tam giác đều: \"))\n",
    "\n",
    "# Nửa chu vi\n",
    "p = (a + a + a) / 2\n",
    "\n",
    "# Áp dụng công thức Heron\n",
    "S = math.sqrt(p * (p - a) * (p - a) * (p - a))\n",
    "\n",
    "print(\"Diện tích tam giác đều là:\", S)\n"
   ]
  },
  {
   "cell_type": "code",
   "execution_count": null,
   "id": "bfba3502-c48d-45fc-b311-5170572ad7aa",
   "metadata": {},
   "outputs": [],
   "source": []
  }
 ],
 "metadata": {
  "kernelspec": {
   "display_name": "Python 3 (ipykernel)",
   "language": "python",
   "name": "python3"
  },
  "language_info": {
   "codemirror_mode": {
    "name": "ipython",
    "version": 3
   },
   "file_extension": ".py",
   "mimetype": "text/x-python",
   "name": "python",
   "nbconvert_exporter": "python",
   "pygments_lexer": "ipython3",
   "version": "3.13.2"
  }
 },
 "nbformat": 4,
 "nbformat_minor": 5
}
