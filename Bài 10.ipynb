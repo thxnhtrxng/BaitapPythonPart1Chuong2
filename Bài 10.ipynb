{
 "cells": [
  {
   "cell_type": "code",
   "execution_count": 1,
   "id": "9642acf9-88a9-442d-8642-5a7bc1787d99",
   "metadata": {},
   "outputs": [
    {
     "name": "stdin",
     "output_type": "stream",
     "text": [
      "Nhập chiều dài (m):  4\n",
      "Nhập chiều rộng (m):  5\n"
     ]
    },
    {
     "name": "stdout",
     "output_type": "stream",
     "text": [
      "Diện tích căn phòng là: 20.0 m²\n"
     ]
    }
   ],
   "source": [
    "# Bài 10: Diện tích căn phòng\n",
    "\n",
    "# Nhập chiều dài và chiều rộng (float)\n",
    "length = float(input(\"Nhập chiều dài (m): \"))\n",
    "width = float(input(\"Nhập chiều rộng (m): \"))\n",
    "\n",
    "# Tính diện tích\n",
    "area = length * width\n",
    "\n",
    "print(\"Diện tích căn phòng là:\", area, \"m²\")\n"
   ]
  },
  {
   "cell_type": "code",
   "execution_count": null,
   "id": "2af8001e-76b5-465e-9b2b-c88cb562fd02",
   "metadata": {},
   "outputs": [],
   "source": []
  }
 ],
 "metadata": {
  "kernelspec": {
   "display_name": "Python 3 (ipykernel)",
   "language": "python",
   "name": "python3"
  },
  "language_info": {
   "codemirror_mode": {
    "name": "ipython",
    "version": 3
   },
   "file_extension": ".py",
   "mimetype": "text/x-python",
   "name": "python",
   "nbconvert_exporter": "python",
   "pygments_lexer": "ipython3",
   "version": "3.13.2"
  }
 },
 "nbformat": 4,
 "nbformat_minor": 5
}
