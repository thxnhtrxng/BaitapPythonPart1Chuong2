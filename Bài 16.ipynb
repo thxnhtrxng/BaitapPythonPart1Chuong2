{
 "cells": [
  {
   "cell_type": "code",
   "execution_count": 1,
   "id": "513f0b08-280f-40cd-b510-c2463ffc3e13",
   "metadata": {},
   "outputs": [
    {
     "name": "stdin",
     "output_type": "stream",
     "text": [
      "Nhập chiều cao rơi (m):  100\n"
     ]
    },
    {
     "name": "stdout",
     "output_type": "stream",
     "text": [
      "Vận tốc của vật khi chạm đất: 44.27 m/s\n"
     ]
    }
   ],
   "source": [
    "import math\n",
    "\n",
    "# Nhập chiều cao từ người dùng\n",
    "d = float(input(\"Nhập chiều cao rơi (m): \"))\n",
    "\n",
    "# Các hằng số\n",
    "vi = 0      # vận tốc đầu (m/s)\n",
    "a = 9.8     # gia tốc trọng trường (m/s^2)\n",
    "\n",
    "# Tính vận tốc cuối\n",
    "vf = math.sqrt(vi**2 + 2 * a * d)\n",
    "print(f\"Vận tốc của vật khi chạm đất: {vf:.2f} m/s\")\n"
   ]
  },
  {
   "cell_type": "code",
   "execution_count": null,
   "id": "48043aa8-82c7-4361-b698-76f85a36fcdd",
   "metadata": {},
   "outputs": [],
   "source": []
  }
 ],
 "metadata": {
  "kernelspec": {
   "display_name": "Python 3 (ipykernel)",
   "language": "python",
   "name": "python3"
  },
  "language_info": {
   "codemirror_mode": {
    "name": "ipython",
    "version": 3
   },
   "file_extension": ".py",
   "mimetype": "text/x-python",
   "name": "python",
   "nbconvert_exporter": "python",
   "pygments_lexer": "ipython3",
   "version": "3.13.2"
  }
 },
 "nbformat": 4,
 "nbformat_minor": 5
}
