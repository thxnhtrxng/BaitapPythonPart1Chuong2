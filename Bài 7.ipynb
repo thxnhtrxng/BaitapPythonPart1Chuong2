{
 "cells": [
  {
   "cell_type": "code",
   "execution_count": 1,
   "id": "b4073fc0-c8b2-4498-9162-ce3855ecc6a1",
   "metadata": {},
   "outputs": [
    {
     "name": "stdin",
     "output_type": "stream",
     "text": [
      "Nhập cạnh a:  4\n",
      "Nhập cạnh b:  5\n",
      "Nhập cạnh c:  6\n",
      "Nhập góc C (radian):  3\n"
     ]
    },
    {
     "name": "stdout",
     "output_type": "stream",
     "text": [
      "Diện tích tam giác là: 1.4112000805986722\n"
     ]
    }
   ],
   "source": [
    "import math\n",
    "\n",
    "# Nhập các cạnh\n",
    "a = float(input(\"Nhập cạnh a: \"))\n",
    "b = float(input(\"Nhập cạnh b: \"))\n",
    "c = float(input(\"Nhập cạnh c: \"))\n",
    "\n",
    "# Nhập góc C (radian)\n",
    "C = float(input(\"Nhập góc C (radian): \"))\n",
    "\n",
    "# Tính diện tích\n",
    "S = 0.5 * a * b * math.sin(C)\n",
    "\n",
    "print(\"Diện tích tam giác là:\", S)\n"
   ]
  },
  {
   "cell_type": "code",
   "execution_count": null,
   "id": "719fb286-ffb2-4b71-9fbc-03427e7021bb",
   "metadata": {},
   "outputs": [],
   "source": []
  }
 ],
 "metadata": {
  "kernelspec": {
   "display_name": "Python 3 (ipykernel)",
   "language": "python",
   "name": "python3"
  },
  "language_info": {
   "codemirror_mode": {
    "name": "ipython",
    "version": 3
   },
   "file_extension": ".py",
   "mimetype": "text/x-python",
   "name": "python",
   "nbconvert_exporter": "python",
   "pygments_lexer": "ipython3",
   "version": "3.13.2"
  }
 },
 "nbformat": 4,
 "nbformat_minor": 5
}
