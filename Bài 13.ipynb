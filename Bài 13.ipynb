{
 "cells": [
  {
   "cell_type": "code",
   "execution_count": 1,
   "id": "e4b3b246-10d0-4980-b968-a0c4829e64c8",
   "metadata": {},
   "outputs": [
    {
     "name": "stdin",
     "output_type": "stream",
     "text": [
      "Nhập số nguyên dương n:  5\n"
     ]
    },
    {
     "name": "stdout",
     "output_type": "stream",
     "text": [
      "Tổng từ 1 đến 5 là: 15\n"
     ]
    }
   ],
   "source": [
    "# Bài 13: Tính tổng 1 + 2 + ... + n\n",
    "\n",
    "# Nhập số nguyên dương n\n",
    "n = int(input(\"Nhập số nguyên dương n: \"))\n",
    "\n",
    "# Kiểm tra hợp lệ\n",
    "if n > 0:\n",
    "    total = (n * (n + 1)) // 2   # dùng // để ra số nguyên\n",
    "    print(\"Tổng từ 1 đến\", n, \"là:\", total)\n",
    "else:\n",
    "    print(\"Vui lòng nhập một số nguyên dương.\")\n"
   ]
  },
  {
   "cell_type": "code",
   "execution_count": null,
   "id": "fcb4ef74-4d9b-4af0-8cbf-d9d44e38f1a7",
   "metadata": {},
   "outputs": [],
   "source": []
  }
 ],
 "metadata": {
  "kernelspec": {
   "display_name": "Python 3 (ipykernel)",
   "language": "python",
   "name": "python3"
  },
  "language_info": {
   "codemirror_mode": {
    "name": "ipython",
    "version": 3
   },
   "file_extension": ".py",
   "mimetype": "text/x-python",
   "name": "python",
   "nbconvert_exporter": "python",
   "pygments_lexer": "ipython3",
   "version": "3.13.2"
  }
 },
 "nbformat": 4,
 "nbformat_minor": 5
}
