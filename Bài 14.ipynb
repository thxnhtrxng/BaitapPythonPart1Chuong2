{
 "cells": [
  {
   "cell_type": "code",
   "execution_count": 1,
   "id": "57198b4f-3684-47ad-b650-0b484b529924",
   "metadata": {},
   "outputs": [
    {
     "name": "stdin",
     "output_type": "stream",
     "text": [
      "Nhập số nguyên a:  4\n",
      "Nhập số nguyên b:  2\n"
     ]
    },
    {
     "name": "stdout",
     "output_type": "stream",
     "text": [
      "Tổng của a và b: 6\n",
      "Hiệu của a và b: 2\n",
      "Tích của a và b: 8\n",
      "Thương của a chia cho b: 2.0\n",
      "Phần còn lại khi a chia cho b: 0\n",
      "Kết quả log10(a): 0.6020599913279624\n",
      "Kết quả a^b: 16\n"
     ]
    }
   ],
   "source": [
    "import math\n",
    "\n",
    "# Nhập số nguyên a và b\n",
    "a = int(input(\"Nhập số nguyên a: \"))\n",
    "b = int(input(\"Nhập số nguyên b: \"))\n",
    "\n",
    "# Tính toán\n",
    "tong = a + b\n",
    "hieu = a - b\n",
    "tich = a * b\n",
    "\n",
    "# Kiểm tra chia cho 0\n",
    "if b != 0:\n",
    "    thuong = a / b\n",
    "    phan_du = a % b\n",
    "else:\n",
    "    thuong = \"Không xác định (chia cho 0)\"\n",
    "    phan_du = \"Không xác định (chia cho 0)\"\n",
    "\n",
    "# log10(a) chỉ tính được khi a > 0\n",
    "if a > 0:\n",
    "    log_a = math.log10(a)\n",
    "else:\n",
    "    log_a = \"Không xác định (a <= 0)\"\n",
    "\n",
    "# a^b\n",
    "mu = a ** b\n",
    "\n",
    "# Xuất kết quả\n",
    "print(\"Tổng của a và b:\", tong)\n",
    "print(\"Hiệu của a và b:\", hieu)\n",
    "print(\"Tích của a và b:\", tich)\n",
    "print(\"Thương của a chia cho b:\", thuong)\n",
    "print(\"Phần còn lại khi a chia cho b:\", phan_du)\n",
    "print(\"Kết quả log10(a):\", log_a)\n",
    "print(\"Kết quả a^b:\", mu)\n"
   ]
  },
  {
   "cell_type": "code",
   "execution_count": null,
   "id": "e57b8400-b0fe-4dae-a14d-9a0b3de1f22e",
   "metadata": {},
   "outputs": [],
   "source": []
  }
 ],
 "metadata": {
  "kernelspec": {
   "display_name": "Python 3 (ipykernel)",
   "language": "python",
   "name": "python3"
  },
  "language_info": {
   "codemirror_mode": {
    "name": "ipython",
    "version": 3
   },
   "file_extension": ".py",
   "mimetype": "text/x-python",
   "name": "python",
   "nbconvert_exporter": "python",
   "pygments_lexer": "ipython3",
   "version": "3.13.2"
  }
 },
 "nbformat": 4,
 "nbformat_minor": 5
}
