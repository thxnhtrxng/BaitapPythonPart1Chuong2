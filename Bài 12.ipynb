{
 "cells": [
  {
   "cell_type": "code",
   "execution_count": 1,
   "id": "6472a9e7-b1fd-4788-9983-53aed702bc4d",
   "metadata": {},
   "outputs": [
    {
     "name": "stdin",
     "output_type": "stream",
     "text": [
      "Nhập chi phí bữa ăn:  50\n"
     ]
    },
    {
     "name": "stdout",
     "output_type": "stream",
     "text": [
      "Tiền bữa ăn: 50.00\n",
      "Tiền boa (18%): 9.00\n",
      "Tiền thuế (5%): 2.50\n",
      "Tổng cộng: 61.50\n"
     ]
    }
   ],
   "source": [
    "# Bài 12: Tính tiền bữa ăn\n",
    "\n",
    "# Nhập chi phí bữa ăn\n",
    "meal_cost = float(input(\"Nhập chi phí bữa ăn: \"))\n",
    "\n",
    "# Tính tiền boa (18%) và thuế (5%)\n",
    "tip = 0.18 * meal_cost\n",
    "tax = 0.05 * meal_cost\n",
    "\n",
    "# Tổng cộng\n",
    "total = meal_cost + tip + tax\n",
    "\n",
    "# Xuất kết quả với 2 chữ số thập phân\n",
    "print(f\"Tiền bữa ăn: {meal_cost:.2f}\")\n",
    "print(f\"Tiền boa (18%): {tip:.2f}\")\n",
    "print(f\"Tiền thuế (5%): {tax:.2f}\")\n",
    "print(f\"Tổng cộng: {total:.2f}\")\n"
   ]
  },
  {
   "cell_type": "code",
   "execution_count": null,
   "id": "3f34c0b2-2225-4379-9103-cd309d155019",
   "metadata": {},
   "outputs": [],
   "source": []
  }
 ],
 "metadata": {
  "kernelspec": {
   "display_name": "Python 3 (ipykernel)",
   "language": "python",
   "name": "python3"
  },
  "language_info": {
   "codemirror_mode": {
    "name": "ipython",
    "version": 3
   },
   "file_extension": ".py",
   "mimetype": "text/x-python",
   "name": "python",
   "nbconvert_exporter": "python",
   "pygments_lexer": "ipython3",
   "version": "3.13.2"
  }
 },
 "nbformat": 4,
 "nbformat_minor": 5
}
