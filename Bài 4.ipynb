{
 "cells": [
  {
   "cell_type": "code",
   "execution_count": 2,
   "id": "ea36f954-f846-4fb6-a6d7-a191a6c5c8c7",
   "metadata": {},
   "outputs": [
    {
     "name": "stdin",
     "output_type": "stream",
     "text": [
      "Enter your string:  trung\n",
      "Enter the word that needs to be replaced:  hihi\n",
      "Enter the new word:  thanh\n"
     ]
    },
    {
     "name": "stdout",
     "output_type": "stream",
     "text": [
      "The new string is: trung\n"
     ]
    }
   ],
   "source": [
    "# Bài 4: Thay thế một từ trong chuỗi\n",
    "\n",
    "# (1) Nhập chuỗi ban đầu\n",
    "st1 = input(\"Enter your string: \")\n",
    "\n",
    "# (2) Nhập từ cần thay thế\n",
    "st2 = input(\"Enter the word that needs to be replaced: \")\n",
    "\n",
    "# (3) Nhập từ thay thế\n",
    "st3 = input(\"Enter the new word: \")\n",
    "\n",
    "# (4) Thay thế\n",
    "st1 = st1.replace(st2, st3)\n",
    "\n",
    "# (5) In kết quả\n",
    "print(\"The new string is:\", st1)\n"
   ]
  },
  {
   "cell_type": "code",
   "execution_count": null,
   "id": "a4479831-a7bd-4708-bdd1-2362ec13b996",
   "metadata": {},
   "outputs": [],
   "source": []
  }
 ],
 "metadata": {
  "kernelspec": {
   "display_name": "Python 3 (ipykernel)",
   "language": "python",
   "name": "python3"
  },
  "language_info": {
   "codemirror_mode": {
    "name": "ipython",
    "version": 3
   },
   "file_extension": ".py",
   "mimetype": "text/x-python",
   "name": "python",
   "nbconvert_exporter": "python",
   "pygments_lexer": "ipython3",
   "version": "3.13.2"
  }
 },
 "nbformat": 4,
 "nbformat_minor": 5
}
